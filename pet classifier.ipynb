{
 "cells": [
  {
   "cell_type": "code",
   "execution_count": null,
   "id": "7e3aad39-dcf9-4059-8ef3-a376b143c76a",
   "metadata": {},
   "outputs": [],
   "source": [
    "import numpy as np\n",
    "import pandas as pd"
   ]
  },
  {
   "cell_type": "code",
   "execution_count": null,
   "id": "729072e1-0e6a-494b-a398-96b5f0f6e78c",
   "metadata": {},
   "outputs": [],
   "source": [
    "import matplotlib.pyplot as plt\n",
    "import matplotlib.image as image\n",
    "import glob\n",
    "import os"
   ]
  },
  {
   "cell_type": "code",
   "execution_count": null,
   "id": "6076c59b-1ede-422d-ab0f-8a678c6282f9",
   "metadata": {},
   "outputs": [],
   "source": [
    "images_fp = \"./images\""
   ]
  },
  {
   "cell_type": "code",
   "execution_count": null,
   "id": "dcfe40c9-a90f-450b-b9ae-c3203ca060ab",
   "metadata": {},
   "outputs": [],
   "source": [
    "images_names = [os.path.basename(file) for file in glob.glob(os.path.join(images_fp, '*.jpg'))]"
   ]
  },
  {
   "cell_type": "code",
   "execution_count": null,
   "id": "faed9d1f-b3f4-4748-bc78-be15c9e32134",
   "metadata": {},
   "outputs": [],
   "source": [
    "labels = [' '.join(name.split('_')[:-1:]) for name in images_names]"
   ]
  },
  {
   "cell_type": "code",
   "execution_count": null,
   "id": "3f8c48ac-aa73-4e00-b330-ce75cfcb9aef",
   "metadata": {},
   "outputs": [],
   "source": [
    "labels"
   ]
  },
  {
   "cell_type": "code",
   "execution_count": null,
   "id": "c4416e05-b736-459c-ad86-4ca32162e1a6",
   "metadata": {},
   "outputs": [],
   "source": [
    "def label_encode(labels):\n",
    "    if label == 'Abyssinian': return 0\n",
    "    if label == 'american pit bull terrier': return 1\n",
    "    if label == 'american bulldog': return 2\n",
    "    if label == 'basset hound': return 3\n",
    "    if label == 'beagle': return 4\n",
    "    if label == 'Bengal': return 5\n",
    "    if label == 'Bombay': return 6\n",
    "    if label == 'British Shorthair': return 7\n",
    "    if label == 'Egyptian Mau': return 8\n",
    "    if label == 'boxer': return 9\n",
    "    if label == 'chihuahua': return 10\n",
    "    if label == 'english cocker spaniel': return 11\n",
    "    if label == 'english setter': return 12\n",
    "    if label == 'german shorthaired': return 13\n",
    "    if label == 'great pyreness': return 14\n",
    "    if label == 'Birman': return 15"
   ]
  },
  {
   "cell_type": "code",
   "execution_count": null,
   "id": "fb03e4ee-0aaf-4792-807f-0d2ae15586e0",
   "metadata": {},
   "outputs": [],
   "source": [
    "import tensorflow as tf\n",
    "from tensorflow.keras.preprocessing.image import load_img,img_to_array"
   ]
  },
  {
   "cell_type": "code",
   "execution_count": null,
   "id": "c57fa693-73a6-439c-b7bd-e33ac8827176",
   "metadata": {},
   "outputs": [],
   "source": [
    "features = []\n",
    "labels = []\n",
    "IMAGE_SIZE = (224,224)"
   ]
  },
  {
   "cell_type": "code",
   "execution_count": null,
   "id": "93949ae4-f3a3-41df-84de-6c155b3eecdf",
   "metadata": {},
   "outputs": [],
   "source": [
    "for name in images_names:\n",
    "    label = ' '.join(name.split('_')[:-1:])\n",
    "    label_encoded = label_encode(label)\n",
    "    if label_encoded != None :\n",
    "        img = load_img(os.path.join(images_fp, name))\n",
    "        img = tf.image.resize_with_pad(img_to_array(img, dtype='uint8'),*IMAGE_SIZE).numpy().astype('uint8')\n",
    "        image = np.array(img)\n",
    "        features.append(image)\n",
    "        labels.append(label_encoded)\n",
    "        \n",
    "    "
   ]
  },
  {
   "cell_type": "code",
   "execution_count": null,
   "id": "fc677e40-7a8c-43d1-91a6-123bb65a76d6",
   "metadata": {},
   "outputs": [],
   "source": [
    "features_array = np.array(features)\n",
    "labels_array = np.array(labels)"
   ]
  },
  {
   "cell_type": "code",
   "execution_count": null,
   "id": "c60e3996-cc40-4ee3-b733-6f535c1b193b",
   "metadata": {},
   "outputs": [],
   "source": [
    "labels_one_hot = pd.get_dummies(labels_array,dtype = int)"
   ]
  },
  {
   "cell_type": "code",
   "execution_count": null,
   "id": "c0daf0d2-398d-4afc-b83d-5213d95c474c",
   "metadata": {},
   "outputs": [],
   "source": [
    "from sklearn.model_selection import train_test_split"
   ]
  },
  {
   "cell_type": "code",
   "execution_count": null,
   "id": "6088d730-b3f6-49a2-b519-57dae60fe6f6",
   "metadata": {},
   "outputs": [],
   "source": [
    "X_train,X_test,y_train,y_test = train_test_split(features_array,labels_one_hot,test_size = 0.2,random_state = 42)"
   ]
  },
  {
   "cell_type": "code",
   "execution_count": null,
   "id": "24d0df8b-4c37-4171-9a32-b5f6c7bea97a",
   "metadata": {},
   "outputs": [],
   "source": [
    "X_train,X_val,y_train,y_val = train_test_split(X_train,y_train,test_size = 0.25,random_state = 1)"
   ]
  },
  {
   "cell_type": "code",
   "execution_count": null,
   "id": "5f887380-c118-41bb-a63c-89c9c854d69b",
   "metadata": {},
   "outputs": [],
   "source": [
    "from tensorflow.keras import layers,Input,Model\n",
    "from tensorflow.keras.models import Sequential\n",
    "from tensorflow.keras.applications import ResNet50\n",
    "from tensorflow.keras.applications.resnet50 import preprocess_input as pp_i\n",
    "from tensorflow.keras.layers import RandomFlip,RandomRotation,Dense,Dropout\n",
    "from tensorflow.keras.losses import CategoricalCrossentropy\n",
    "from tensorflow.keras.optimizers import Adam"
   ]
  },
  {
   "cell_type": "code",
   "execution_count": null,
   "id": "eb1237a2-a4a8-4f0c-a8dc-801a2d6c4083",
   "metadata": {},
   "outputs": [],
   "source": [
    "data_augmentation = Sequential([RandomFlip(\"horizontal_and_vertical\"),RandomRotation(0.2)])\n",
    "prediction_layers = Dense(15,activation = 'softmax')"
   ]
  },
  {
   "cell_type": "code",
   "execution_count": null,
   "id": "9a154381-2586-4b77-9271-242f8469d618",
   "metadata": {},
   "outputs": [],
   "source": [
    "resnet_model = ResNet50(include_top = False,pooling = 'avg' , weights = 'imagenet')\n",
    "resnet_model.trainable = False\n",
    "preprocess_input = pp_i"
   ]
  },
  {
   "cell_type": "code",
   "execution_count": null,
   "id": "181ca7cf-945d-448f-9d2e-b680b84363b5",
   "metadata": {},
   "outputs": [],
   "source": [
    "inputs = Input(shape=(224,224,3))\n",
    "x = data_augmentation(inputs)\n",
    "x = preprocess_input(x)\n",
    "x = resnet_model(x, training = False)\n",
    "x = Dropout(0.2)(x)\n",
    "outputs = prediction_layers(x)\n",
    "model = Model(inputs,outputs)"
   ]
  },
  {
   "cell_type": "code",
   "execution_count": null,
   "id": "92fe6b43-5670-4c4d-8c6f-78483eb9bd1b",
   "metadata": {},
   "outputs": [],
   "source": [
    "model.compile(optimizer=Adam(), loss = CategoricalCrossentropy(), metrics = ['accuracy'])"
   ]
  },
  {
   "cell_type": "code",
   "execution_count": null,
   "id": "e4983531-f2d6-4e3e-a949-08c084ce45ae",
   "metadata": {
    "scrolled": true
   },
   "outputs": [],
   "source": [
    "model.summary()"
   ]
  },
  {
   "cell_type": "code",
   "execution_count": null,
   "id": "37fef4b1-1468-468f-b100-8857da339767",
   "metadata": {
    "scrolled": true
   },
   "outputs": [],
   "source": [
    "model_history = model.fit(x=X_train, y=y_train , validation_data =(X_val, y_val), epochs =10)"
   ]
  },
  {
   "cell_type": "code",
   "execution_count": null,
   "id": "5d79d6dd-45f3-4035-87f4-92feb08fb18b",
   "metadata": {},
   "outputs": [],
   "source": [
    "acc = model_history.history['accuracy']\n",
    "val_acc = model_history.history['val_accuracy']\n",
    "loss = model_history.history['loss']\n",
    "val_loss = model_history.history['val_loss']"
   ]
  },
  {
   "cell_type": "code",
   "execution_count": null,
   "id": "24567624-8cfa-4a10-b41a-a9773e0e2cd4",
   "metadata": {},
   "outputs": [],
   "source": [
    "epochs_range = range(10)\n",
    "plt.figure(figsize=(15,8)) \n",
    "\n",
    "plt.subplot(1,2,1)\n",
    "plt.plot(epochs_range,acc,label='Training accuracy')\n",
    "plt.plot(epochs_range,val_acc,label='Validation accuracy')\n",
    "plt.legend(loc='upper right')\n",
    "plt.title('Training and Validation Accuracy')\n",
    "\n",
    "plt.subplot(1,2,2)\n",
    "plt.plot(epochs_range,loss,label='Training Loss')\n",
    "plt.plot(epochs_range,val_loss,label='Validation Loss')\n",
    "plt.legend(loc='upper right')\n",
    "plt.title('Training and Validation Loss')\n"
   ]
  },
  {
   "cell_type": "code",
   "execution_count": null,
   "id": "0e703ced-448b-4597-bce7-6c4f52d140bb",
   "metadata": {},
   "outputs": [],
   "source": [
    "model.evaluate(X_test, y_test)"
   ]
  },
  {
   "cell_type": "code",
   "execution_count": null,
   "id": "ed604a73-c478-45e5-a6f2-e979d3e8ea2e",
   "metadata": {},
   "outputs": [],
   "source": [
    "y_pred = model.predict(X_test)"
   ]
  },
  {
   "cell_type": "code",
   "execution_count": null,
   "id": "9d5c7453-b231-43ad-abb4-a899a3459bd9",
   "metadata": {},
   "outputs": [],
   "source": [
    "y_pred"
   ]
  }
 ],
 "metadata": {
  "kernelspec": {
   "display_name": "Python 3 (ipykernel)",
   "language": "python",
   "name": "python3"
  },
  "language_info": {
   "codemirror_mode": {
    "name": "ipython",
    "version": 3
   },
   "file_extension": ".py",
   "mimetype": "text/x-python",
   "name": "python",
   "nbconvert_exporter": "python",
   "pygments_lexer": "ipython3",
   "version": "3.9.19"
  }
 },
 "nbformat": 4,
 "nbformat_minor": 5
}
